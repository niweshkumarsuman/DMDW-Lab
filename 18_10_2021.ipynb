{
  "nbformat": 4,
  "nbformat_minor": 0,
  "metadata": {
    "colab": {
      "name": "18_10_2021.ipynb",
      "provenance": [],
      "mount_file_id": "1j1Sf79tPl_oWm5YcA_AcxB83XB_JkLFk",
      "authorship_tag": "ABX9TyMoi+9I7uCc3u7eE43hXMdv",
      "include_colab_link": true
    },
    "kernelspec": {
      "name": "python3",
      "display_name": "Python 3"
    },
    "language_info": {
      "name": "python"
    }
  },
  "cells": [
    {
      "cell_type": "markdown",
      "metadata": {
        "id": "view-in-github",
        "colab_type": "text"
      },
      "source": [
        "<a href=\"https://colab.research.google.com/github/niweshkumarsuman/DMDW-Lab/blob/main/18_10_2021.ipynb\" target=\"_parent\"><img src=\"https://colab.research.google.com/assets/colab-badge.svg\" alt=\"Open In Colab\"/></a>"
      ]
    },
    {
      "cell_type": "code",
      "metadata": {
        "colab": {
          "base_uri": "https://localhost:8080/"
        },
        "id": "GozAEiLFHXXR",
        "outputId": "29353fbd-5158-4580-a2a6-b4e31a00f95f"
      },
      "source": [
        "import pandas as pd\n",
        "data={'Age':[58,69,45,52],'BP':[110,115,108,106],'Salary':[50000,60000,40000,35000],'WT':[70,60,65,68]}\n",
        "df=pd.DataFrame(data,columns=['Age','BP','Salary','WT'])\n",
        "print(df)\n",
        "import math\n",
        "import numpy as np\n",
        "print(np.sin(df*3.14/4))\n",
        "first_value=df.iloc[0][0]\n",
        "print(df.subtract(first_value,axis=1))\n",
        "first_row=df.iloc[0]\n",
        "print(df.subtract(first_row,axis=1))"
      ],
      "execution_count": null,
      "outputs": [
        {
          "output_type": "stream",
          "name": "stdout",
          "text": [
            "   Age   BP  Salary  WT\n",
            "0   58  110   50000  70\n",
            "1   69  115   60000  60\n",
            "2   45  108   40000  65\n",
            "3   52  106   35000  68\n",
            "        Age        BP    Salary        WT\n",
            "0  0.999733 -0.999041 -0.871677 -0.999612\n",
            "1 -0.687416  0.738732  0.946734  0.023888\n",
            "2 -0.694324  0.042988  0.216836  0.688572\n",
            "3  0.020703  0.999109 -0.979778  0.027072\n",
            "   Age  BP  Salary  WT\n",
            "0    0  52   49942  12\n",
            "1   11  57   59942   2\n",
            "2  -13  50   39942   7\n",
            "3   -6  48   34942  10\n",
            "   Age  BP  Salary  WT\n",
            "0    0   0       0   0\n",
            "1   11   5   10000 -10\n",
            "2  -13  -2  -10000  -5\n",
            "3   -6  -4  -15000  -2\n"
          ]
        }
      ]
    }
  ]
}