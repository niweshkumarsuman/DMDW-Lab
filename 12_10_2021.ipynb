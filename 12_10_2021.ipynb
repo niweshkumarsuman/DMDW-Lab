{
  "nbformat": 4,
  "nbformat_minor": 0,
  "metadata": {
    "colab": {
      "name": "12_10_2021.ipynb",
      "provenance": [],
      "mount_file_id": "1NKhHARVbkuRvy8wLaAEceiXNw3Kn_q-s",
      "authorship_tag": "ABX9TyPW4rCuAb73eFOIbll1Vgjf",
      "include_colab_link": true
    },
    "kernelspec": {
      "name": "python3",
      "display_name": "Python 3"
    },
    "language_info": {
      "name": "python"
    }
  },
  "cells": [
    {
      "cell_type": "markdown",
      "metadata": {
        "id": "view-in-github",
        "colab_type": "text"
      },
      "source": [
        "<a href=\"https://colab.research.google.com/github/niweshkumarsuman/DMDW-Lab/blob/main/12_10_2021.ipynb\" target=\"_parent\"><img src=\"https://colab.research.google.com/assets/colab-badge.svg\" alt=\"Open In Colab\"/></a>"
      ]
    },
    {
      "cell_type": "code",
      "metadata": {
        "id": "xD7pX9mByjEE"
      },
      "source": [
        "import numpy as np\n",
        "a=np.array([1,2,3])\n",
        "print(type(a))\n",
        "print(a)\n",
        "b=np.array(([1,2],[3,4]))\n",
        "print(b)\n",
        "print(b.shape)\n",
        "print(a.shape)\n",
        "c=np.zeros((3,3))\n",
        "print(c)\n",
        "d=np.ones((3,3))\n",
        "print(d)\n",
        "e=np.random.random((3,3))\n",
        "print(e)\n",
        "i=np.eye(3)\n",
        "print(i)\n",
        "j=np.arange(20)\n",
        "print(j)\n",
        "print(j[1:7:2])\n",
        "print(j[5:15:3])\n",
        "print(j[-1:5:-2])\n",
        "k=np.array([[12,11],[9,7],[5,13]])\n",
        "print(k.shape)\n",
        "print(k>10)"
      ],
      "execution_count": null,
      "outputs": []
    },
    {
      "cell_type": "code",
      "metadata": {
        "id": "R2KISKM06jox"
      },
      "source": [
        "l=np.random.random((3,2))\n",
        "print(l.shape)\n",
        "print(l)\n",
        "print(k+l)\n",
        "print(k-l)\n",
        "x=np.sum(k,axis=0)\n",
        "y=np.sum(k,axis=1)\n",
        "print(y)\n",
        "print(x)\n"
      ],
      "execution_count": null,
      "outputs": []
    },
    {
      "cell_type": "code",
      "metadata": {
        "colab": {
          "base_uri": "https://localhost:8080/"
        },
        "id": "2f5jz0HD-e3j",
        "outputId": "4075ddb2-2f57-46b9-fc13-26e345892edf"
      },
      "source": [
        "p=np.array([[12,11,5],[9,7,3]])\n",
        "print(p)\n",
        "w=np.array([1.0,1.1])\n",
        "print(w)\n",
        "#print(p+w)\n",
        "print((p.T+w).T)"
      ],
      "execution_count": null,
      "outputs": [
        {
          "output_type": "stream",
          "name": "stdout",
          "text": [
            "[[12 11  5]\n",
            " [ 9  7  3]]\n",
            "[1.  1.1]\n",
            "[[13.  12.   6. ]\n",
            " [10.1  8.1  4.1]]\n"
          ]
        }
      ]
    },
    {
      "cell_type": "code",
      "metadata": {
        "id": "eSNlNrvfA8xW"
      },
      "source": [
        ""
      ],
      "execution_count": null,
      "outputs": []
    }
  ]
}